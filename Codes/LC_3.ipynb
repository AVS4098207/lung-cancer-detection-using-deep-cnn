{
  "nbformat": 4,
  "nbformat_minor": 0,
  "metadata": {
    "colab": {
      "name": "LC_3.ipynb",
      "provenance": [],
      "collapsed_sections": []
    },
    "kernelspec": {
      "name": "python3",
      "display_name": "Python 3"
    },
    "language_info": {
      "name": "python"
    }
  },
  "cells": [
    {
      "cell_type": "code",
      "metadata": {
        "colab": {
          "base_uri": "https://localhost:8080/"
        },
        "id": "gTe4N1g3Ut4Q",
        "outputId": "e22d8ca5-c37f-4fea-efcc-97f25159c7a5"
      },
      "source": [
        "from numpy import load\n",
        "print(\"loading data\")\n",
        "data = load(\"/content/drive/My Drive/lungcancer/data_4.npy\")\n",
        "print(\"loading labels\")\n",
        "labels = load(\"/content/drive/My Drive/lungcancer/labels_4.npy\")"
      ],
      "execution_count": null,
      "outputs": [
        {
          "output_type": "stream",
          "text": [
            "loading data\n",
            "loading labels\n"
          ],
          "name": "stdout"
        }
      ]
    },
    {
      "cell_type": "code",
      "metadata": {
        "colab": {
          "base_uri": "https://localhost:8080/"
        },
        "id": "PDBYxsFOU8x7",
        "outputId": "3927d0bb-de2e-436e-a2c7-7c7b7f1ec322"
      },
      "source": [
        "from google.colab import drive\n",
        "drive.mount('/content/drive')"
      ],
      "execution_count": null,
      "outputs": [
        {
          "output_type": "stream",
          "text": [
            "Drive already mounted at /content/drive; to attempt to forcibly remount, call drive.mount(\"/content/drive\", force_remount=True).\n"
          ],
          "name": "stdout"
        }
      ]
    },
    {
      "cell_type": "code",
      "metadata": {
        "id": "yJdeP1eXVY3s"
      },
      "source": [
        "from sklearn.model_selection import train_test_split\n",
        "(trainX, testX, trainY, testY) = train_test_split(data, labels,\n",
        "                                                  test_size=0.1, stratify=labels, random_state=42,shuffle = True)"
      ],
      "execution_count": null,
      "outputs": []
    },
    {
      "cell_type": "code",
      "metadata": {
        "colab": {
          "base_uri": "https://localhost:8080/"
        },
        "id": "yrj56JlZVa5y",
        "outputId": "0b07f0a7-0d12-4478-ce0c-44b8501c7721"
      },
      "source": [
        "trainX.shape"
      ],
      "execution_count": null,
      "outputs": [
        {
          "output_type": "execute_result",
          "data": {
            "text/plain": [
              "(900, 512, 512, 1)"
            ]
          },
          "metadata": {
            "tags": []
          },
          "execution_count": 4
        }
      ]
    },
    {
      "cell_type": "code",
      "metadata": {
        "colab": {
          "base_uri": "https://localhost:8080/"
        },
        "id": "-WYW9fEpVhXH",
        "outputId": "3e9f6390-76dc-4a65-df75-280e693e0b14"
      },
      "source": [
        "trainY.shape"
      ],
      "execution_count": null,
      "outputs": [
        {
          "output_type": "execute_result",
          "data": {
            "text/plain": [
              "(900,)"
            ]
          },
          "metadata": {
            "tags": []
          },
          "execution_count": 5
        }
      ]
    },
    {
      "cell_type": "code",
      "metadata": {
        "id": "L7SeFqMbVkKB"
      },
      "source": [
        "from keras.preprocessing.image import ImageDataGenerator\n",
        "aug_train = ImageDataGenerator(rescale= 1.0/255.,\n",
        "    rotation_range=20,\n",
        "    zoom_range=0.15,\n",
        "    width_shift_range=0.2,\n",
        "    height_shift_range=0.2,\n",
        "    shear_range=0.15,\n",
        "    horizontal_flip=True,\n",
        "    fill_mode=\"nearest\")\n",
        "\n",
        "aug_test  = ImageDataGenerator(rescale= 1.0/255.)"
      ],
      "execution_count": null,
      "outputs": []
    },
    {
      "cell_type": "code",
      "metadata": {
        "id": "y3JGV4MuVooj"
      },
      "source": [
        "from keras.models import Sequential\n",
        "from keras.layers import Conv2D\n",
        "from keras.layers import MaxPooling2D\n",
        "from keras.layers import Flatten\n",
        "from keras.layers import Dense\n",
        "from keras.layers import Dropout\n",
        "\n",
        "# Initialising the CNN\n",
        "classifier = Sequential()\n",
        "\n",
        "# Step 1 - Convolution\n",
        "classifier.add(Conv2D(32, (3, 3), input_shape = (512, 512, 1), activation = 'relu'))\n",
        "\n",
        "# Step 2 - Pooling\n",
        "classifier.add(MaxPooling2D(pool_size = (2, 2)))\n",
        "\n",
        "# Adding a second convolutional layer\n",
        "classifier.add(Conv2D(32, (3, 3), activation = 'relu'))\n",
        "classifier.add(MaxPooling2D(pool_size = (2, 2)))\n",
        "# Adding a third convolutional layer\n",
        "classifier.add(Conv2D(32, (3, 3), activation = 'relu'))\n",
        "classifier.add(Dropout(0.5))\n",
        "\n",
        "# Adding Convolution\n",
        "classifier.add(Conv2D(32, (3, 3), activation = 'relu'))\n",
        "\n",
        "# Step 3 - Flattening\n",
        "classifier.add(Flatten())\n",
        "\n",
        "# Step 4 - Full connection\n",
        "classifier.add(Dense(units = 128, activation = 'relu'))\n",
        "classifier.add(Dropout(0.5))\n",
        "classifier.add(Dense(units = 128, activation = 'relu'))\n",
        "classifier.add(Dense(units = 1, activation = 'sigmoid'))"
      ],
      "execution_count": null,
      "outputs": []
    },
    {
      "cell_type": "code",
      "metadata": {
        "id": "u8t5uH7gVuXO"
      },
      "source": [
        "classifier.compile(optimizer = 'adam', loss = 'binary_crossentropy', metrics = ['accuracy'])"
      ],
      "execution_count": null,
      "outputs": []
    },
    {
      "cell_type": "code",
      "metadata": {
        "colab": {
          "base_uri": "https://localhost:8080/"
        },
        "id": "HaP83jeQVyti",
        "outputId": "faa1af09-36cc-4a3c-d7a6-b305118fa101"
      },
      "source": [
        "classifier.summary()"
      ],
      "execution_count": null,
      "outputs": [
        {
          "output_type": "stream",
          "text": [
            "Model: \"sequential\"\n",
            "_________________________________________________________________\n",
            "Layer (type)                 Output Shape              Param #   \n",
            "=================================================================\n",
            "conv2d (Conv2D)              (None, 510, 510, 32)      320       \n",
            "_________________________________________________________________\n",
            "max_pooling2d (MaxPooling2D) (None, 255, 255, 32)      0         \n",
            "_________________________________________________________________\n",
            "conv2d_1 (Conv2D)            (None, 253, 253, 32)      9248      \n",
            "_________________________________________________________________\n",
            "max_pooling2d_1 (MaxPooling2 (None, 126, 126, 32)      0         \n",
            "_________________________________________________________________\n",
            "conv2d_2 (Conv2D)            (None, 124, 124, 32)      9248      \n",
            "_________________________________________________________________\n",
            "dropout (Dropout)            (None, 124, 124, 32)      0         \n",
            "_________________________________________________________________\n",
            "conv2d_3 (Conv2D)            (None, 122, 122, 32)      9248      \n",
            "_________________________________________________________________\n",
            "flatten (Flatten)            (None, 476288)            0         \n",
            "_________________________________________________________________\n",
            "dense (Dense)                (None, 128)               60964992  \n",
            "_________________________________________________________________\n",
            "dropout_1 (Dropout)          (None, 128)               0         \n",
            "_________________________________________________________________\n",
            "dense_1 (Dense)              (None, 128)               16512     \n",
            "_________________________________________________________________\n",
            "dense_2 (Dense)              (None, 1)                 129       \n",
            "=================================================================\n",
            "Total params: 61,009,697\n",
            "Trainable params: 61,009,697\n",
            "Non-trainable params: 0\n",
            "_________________________________________________________________\n"
          ],
          "name": "stdout"
        }
      ]
    },
    {
      "cell_type": "code",
      "metadata": {
        "id": "5ndyanvWV1uX"
      },
      "source": [
        "import keras as k"
      ],
      "execution_count": null,
      "outputs": []
    },
    {
      "cell_type": "code",
      "metadata": {
        "id": "b7HchXQuV4so"
      },
      "source": [
        "import time\n",
        "NAME = \"test_1-{}\".format(int(time.time()))"
      ],
      "execution_count": null,
      "outputs": []
    },
    {
      "cell_type": "code",
      "metadata": {
        "id": "9v0jpDQ8V7d4"
      },
      "source": [
        "callbacks = [\n",
        "#   k.callbacks.EarlyStopping(patience=3, monitor='val_loss'),\n",
        "    k.callbacks.TensorBoard(log_dir='logs\\{}'.format(NAME)),\n",
        "    k.callbacks.ModelCheckpoint('test_model_1.h5', save_best_only=True)]"
      ],
      "execution_count": null,
      "outputs": []
    },
    {
      "cell_type": "code",
      "metadata": {
        "colab": {
          "base_uri": "https://localhost:8080/"
        },
        "id": "bgUDd-wMXBaG",
        "outputId": "3e679c4e-f38a-4a16-e2ce-4c541944bcf9"
      },
      "source": [
        "hist_1 = classifier.fit(aug_train.flow(trainX, trainY, batch_size=32),steps_per_epoch = 29, epochs = 50, verbose = 1,\n",
        "                        validation_data = (testX, testY), callbacks=callbacks)"
      ],
      "execution_count": null,
      "outputs": [
        {
          "output_type": "stream",
          "text": [
            "Epoch 1/50\n",
            "29/29 [==============================] - 342s 11s/step - loss: 9.7920 - accuracy: 0.6076 - val_loss: 0.6509 - val_accuracy: 0.7129\n",
            "Epoch 2/50\n",
            "29/29 [==============================] - 324s 11s/step - loss: 0.6384 - accuracy: 0.6684 - val_loss: 0.9565 - val_accuracy: 0.7129\n",
            "Epoch 3/50\n",
            "29/29 [==============================] - 322s 11s/step - loss: 0.6207 - accuracy: 0.7147 - val_loss: 3.8757 - val_accuracy: 0.7129\n",
            "Epoch 4/50\n",
            "29/29 [==============================] - 322s 11s/step - loss: 0.6067 - accuracy: 0.7232 - val_loss: 15.0614 - val_accuracy: 0.7129\n",
            "Epoch 5/50\n",
            "29/29 [==============================] - 320s 11s/step - loss: 0.5889 - accuracy: 0.7102 - val_loss: 11.1595 - val_accuracy: 0.7129\n",
            "Epoch 6/50\n",
            "29/29 [==============================] - 322s 11s/step - loss: 0.5679 - accuracy: 0.7235 - val_loss: 49.3543 - val_accuracy: 0.7030\n",
            "Epoch 7/50\n",
            "29/29 [==============================] - 324s 11s/step - loss: 0.5602 - accuracy: 0.7205 - val_loss: 35.5849 - val_accuracy: 0.7030\n",
            "Epoch 8/50\n",
            "29/29 [==============================] - 329s 11s/step - loss: 0.5678 - accuracy: 0.7008 - val_loss: 28.1740 - val_accuracy: 0.7030\n",
            "Epoch 9/50\n",
            "29/29 [==============================] - 329s 11s/step - loss: 0.5519 - accuracy: 0.7237 - val_loss: 53.4935 - val_accuracy: 0.7030\n",
            "Epoch 10/50\n",
            "29/29 [==============================] - 324s 11s/step - loss: 0.5225 - accuracy: 0.7227 - val_loss: 135.7256 - val_accuracy: 0.7030\n",
            "Epoch 11/50\n",
            "29/29 [==============================] - 321s 11s/step - loss: 0.5332 - accuracy: 0.7104 - val_loss: 48.3907 - val_accuracy: 0.7030\n",
            "Epoch 12/50\n",
            "29/29 [==============================] - 321s 11s/step - loss: 0.5547 - accuracy: 0.6887 - val_loss: 36.7459 - val_accuracy: 0.7030\n",
            "Epoch 13/50\n",
            "29/29 [==============================] - 323s 11s/step - loss: 0.4986 - accuracy: 0.6987 - val_loss: 24.2901 - val_accuracy: 0.7129\n",
            "Epoch 14/50\n",
            "29/29 [==============================] - 324s 11s/step - loss: 0.4995 - accuracy: 0.7221 - val_loss: 129.9303 - val_accuracy: 0.7129\n",
            "Epoch 15/50\n",
            "29/29 [==============================] - 323s 11s/step - loss: 0.4835 - accuracy: 0.7117 - val_loss: 48.8431 - val_accuracy: 0.7129\n",
            "Epoch 16/50\n",
            "29/29 [==============================] - 322s 11s/step - loss: 0.4943 - accuracy: 0.7217 - val_loss: 281.1535 - val_accuracy: 0.7129\n",
            "Epoch 17/50\n",
            "29/29 [==============================] - 321s 11s/step - loss: 0.4667 - accuracy: 0.7180 - val_loss: 135.2353 - val_accuracy: 0.7129\n",
            "Epoch 18/50\n",
            "29/29 [==============================] - 320s 11s/step - loss: 0.4937 - accuracy: 0.7001 - val_loss: 165.4656 - val_accuracy: 0.7129\n",
            "Epoch 19/50\n",
            "29/29 [==============================] - 326s 11s/step - loss: 0.4694 - accuracy: 0.7255 - val_loss: 180.9720 - val_accuracy: 0.7129\n",
            "Epoch 20/50\n",
            "29/29 [==============================] - 323s 11s/step - loss: 0.5436 - accuracy: 0.7145 - val_loss: 345.4139 - val_accuracy: 0.7129\n",
            "Epoch 21/50\n",
            "29/29 [==============================] - 320s 11s/step - loss: 0.5126 - accuracy: 0.7003 - val_loss: 711.7264 - val_accuracy: 0.7129\n",
            "Epoch 22/50\n",
            "29/29 [==============================] - 322s 11s/step - loss: 0.4861 - accuracy: 0.7169 - val_loss: 113.6685 - val_accuracy: 0.7129\n",
            "Epoch 23/50\n",
            "29/29 [==============================] - 320s 11s/step - loss: 0.4869 - accuracy: 0.7362 - val_loss: 315.5218 - val_accuracy: 0.7129\n",
            "Epoch 24/50\n",
            "29/29 [==============================] - 324s 11s/step - loss: 0.4594 - accuracy: 0.7376 - val_loss: 228.6114 - val_accuracy: 0.7129\n",
            "Epoch 25/50\n",
            "29/29 [==============================] - 323s 11s/step - loss: 0.4538 - accuracy: 0.7119 - val_loss: 429.8321 - val_accuracy: 0.7129\n",
            "Epoch 26/50\n",
            "29/29 [==============================] - 322s 11s/step - loss: 0.4684 - accuracy: 0.7057 - val_loss: 90.5108 - val_accuracy: 0.7129\n",
            "Epoch 27/50\n",
            "29/29 [==============================] - 325s 11s/step - loss: 0.4807 - accuracy: 0.7157 - val_loss: 306.4998 - val_accuracy: 0.7129\n",
            "Epoch 28/50\n",
            "29/29 [==============================] - 323s 11s/step - loss: 0.4611 - accuracy: 0.7028 - val_loss: 358.9016 - val_accuracy: 0.7129\n",
            "Epoch 29/50\n",
            "29/29 [==============================] - 323s 11s/step - loss: 0.4639 - accuracy: 0.7075 - val_loss: 290.8074 - val_accuracy: 0.7129\n",
            "Epoch 30/50\n",
            "29/29 [==============================] - 323s 11s/step - loss: 0.4745 - accuracy: 0.6957 - val_loss: 308.3468 - val_accuracy: 0.7129\n",
            "Epoch 31/50\n",
            "29/29 [==============================] - 321s 11s/step - loss: 0.4759 - accuracy: 0.7347 - val_loss: 533.7499 - val_accuracy: 0.6832\n",
            "Epoch 32/50\n",
            "29/29 [==============================] - 326s 12s/step - loss: 0.4255 - accuracy: 0.7367 - val_loss: 896.5812 - val_accuracy: 0.6931\n",
            "Epoch 33/50\n",
            "29/29 [==============================] - 326s 11s/step - loss: 0.4380 - accuracy: 0.7198 - val_loss: 766.9635 - val_accuracy: 0.6931\n",
            "Epoch 34/50\n",
            "29/29 [==============================] - 325s 11s/step - loss: 0.4182 - accuracy: 0.7028 - val_loss: 478.3686 - val_accuracy: 0.7030\n",
            "Epoch 35/50\n",
            "29/29 [==============================] - 324s 11s/step - loss: 0.4498 - accuracy: 0.7341 - val_loss: 742.5768 - val_accuracy: 0.6931\n",
            "Epoch 36/50\n",
            "29/29 [==============================] - 325s 11s/step - loss: 0.4655 - accuracy: 0.7106 - val_loss: 535.3254 - val_accuracy: 0.6931\n",
            "Epoch 37/50\n",
            "29/29 [==============================] - 323s 11s/step - loss: 0.4484 - accuracy: 0.7034 - val_loss: 825.5408 - val_accuracy: 0.6931\n",
            "Epoch 38/50\n",
            "29/29 [==============================] - 324s 11s/step - loss: 0.4059 - accuracy: 0.7216 - val_loss: 616.6894 - val_accuracy: 0.7030\n",
            "Epoch 39/50\n",
            "29/29 [==============================] - 325s 11s/step - loss: 0.4665 - accuracy: 0.7016 - val_loss: 1066.7963 - val_accuracy: 0.7030\n",
            "Epoch 40/50\n",
            "29/29 [==============================] - 325s 11s/step - loss: 0.4377 - accuracy: 0.7103 - val_loss: 963.1599 - val_accuracy: 0.7129\n",
            "Epoch 41/50\n",
            "29/29 [==============================] - 324s 11s/step - loss: 0.4365 - accuracy: 0.7275 - val_loss: 1232.0024 - val_accuracy: 0.7030\n",
            "Epoch 42/50\n",
            "29/29 [==============================] - 324s 11s/step - loss: 0.4293 - accuracy: 0.7042 - val_loss: 632.9237 - val_accuracy: 0.6931\n",
            "Epoch 43/50\n",
            "29/29 [==============================] - 323s 11s/step - loss: 0.4450 - accuracy: 0.7076 - val_loss: 1138.3661 - val_accuracy: 0.7129\n",
            "Epoch 44/50\n",
            "29/29 [==============================] - 323s 11s/step - loss: 0.4224 - accuracy: 0.7218 - val_loss: 1043.0581 - val_accuracy: 0.7129\n",
            "Epoch 45/50\n",
            "29/29 [==============================] - 323s 11s/step - loss: 0.4549 - accuracy: 0.6832 - val_loss: 831.3143 - val_accuracy: 0.7129\n",
            "Epoch 46/50\n",
            "29/29 [==============================] - 323s 11s/step - loss: 0.4494 - accuracy: 0.7057 - val_loss: 740.2310 - val_accuracy: 0.7129\n",
            "Epoch 47/50\n",
            "29/29 [==============================] - 321s 11s/step - loss: 0.4255 - accuracy: 0.7135 - val_loss: 413.4460 - val_accuracy: 0.7129\n",
            "Epoch 48/50\n",
            "29/29 [==============================] - 319s 11s/step - loss: 0.4342 - accuracy: 0.7165 - val_loss: 748.7389 - val_accuracy: 0.7129\n",
            "Epoch 49/50\n",
            "29/29 [==============================] - 323s 11s/step - loss: 0.4281 - accuracy: 0.7055 - val_loss: 875.5956 - val_accuracy: 0.7030\n",
            "Epoch 50/50\n",
            "29/29 [==============================] - 322s 11s/step - loss: 0.4017 - accuracy: 0.7389 - val_loss: 1282.5403 - val_accuracy: 0.7228\n"
          ],
          "name": "stdout"
        }
      ]
    },
    {
      "cell_type": "code",
      "metadata": {
        "id": "0OmODURLXDFO"
      },
      "source": [
        "aug_train.fit(trainX)"
      ],
      "execution_count": null,
      "outputs": []
    },
    {
      "cell_type": "code",
      "metadata": {
        "colab": {
          "base_uri": "https://localhost:8080/",
          "height": 312
        },
        "id": "c3agAWEjlYCj",
        "outputId": "3b11ab37-e578-45de-b520-7a8b8151ce61"
      },
      "source": [
        "import scipy.ndimage\n",
        "import matplotlib.pyplot as plt\n",
        "from skimage import measure, morphology, segmentation\n",
        "from mpl_toolkits.mplot3d.art3d import Poly3DCollection\n",
        "import scipy.ndimage as ndimage\n",
        "\n",
        "# print accuracy graph\n",
        "plt.plot(hist_1.history[\"accuracy\"])\n",
        "plt.plot(hist_1.history['val_accuracy'])\n",
        "plt.title(\"model accuracy\")\n",
        "plt.legend([\"Accuracy\",\"Validation Accuracy\"])\n",
        "plt.ylabel(\"Acuuracy\")\n",
        "plt.xlabel(\"Epoch\")"
      ],
      "execution_count": null,
      "outputs": [
        {
          "output_type": "execute_result",
          "data": {
            "text/plain": [
              "Text(0.5, 0, 'Epoch')"
            ]
          },
          "metadata": {
            "tags": []
          },
          "execution_count": 15
        },
        {
          "output_type": "display_data",
          "data": {
            "image/png": "[encoded data removed]",
            "text/plain": [
              "<Figure size 432x288 with 1 Axes>"
            ]
          },
          "metadata": {
            "tags": [],
            "needs_background": "light"
          }
        }
      ]
    },
    {
      "cell_type": "code",
      "metadata": {
        "colab": {
          "base_uri": "https://localhost:8080/",
          "height": 312
        },
        "id": "qLTyOqLTlkVc",
        "outputId": "900b1e69-2f75-4c79-cd3e-aaabc78fd757"
      },
      "source": [
        "# print loss graph\n",
        "import matplotlib.pyplot as plt\n",
        "plt.plot(hist_1.history['loss'])\n",
        "plt.plot(hist_1.history['val_loss'])\n",
        "plt.title(\"model loss\")\n",
        "plt.ylabel(\"Loss\")\n",
        "plt.xlabel(\"Epoch\")\n",
        "plt.legend([\"loss\",\"Validation Loss\"])"
      ],
      "execution_count": null,
      "outputs": [
        {
          "output_type": "execute_result",
          "data": {
            "text/plain": [
              "<matplotlib.legend.Legend at 0x7f3ce8e1c310>"
            ]
          },
          "metadata": {
            "tags": []
          },
          "execution_count": 16
        },
        {
          "output_type": "display_data",
          "data": {
            "image/png": "[encoded data removed]",
            "text/plain": [
              "<Figure size 432x288 with 1 Axes>"
            ]
          },
          "metadata": {
            "tags": [],
            "needs_background": "light"
          }
        }
      ]
    },
    {
      "cell_type": "code",
      "metadata": {
        "id": "OOkdxx7MXJnI"
      },
      "source": [
        "from keras.models import Sequential\n",
        "from keras.layers import Conv2D\n",
        "from keras.layers import MaxPooling2D\n",
        "from keras.layers import Flatten\n",
        "from keras.layers import Dense\n",
        "from keras.layers import Dropout\n",
        "\n",
        "classifier_2 = Sequential()\n",
        "\n",
        "# Step 1 - Convolution\n",
        "classifier_2.add(Conv2D(32, (3, 3), input_shape = (512, 512, 1), activation = 'relu'))\n",
        "\n",
        "# Step 2 - Pooling\n",
        "classifier_2.add(MaxPooling2D(pool_size = (2, 2)))\n",
        "\n",
        "# Adding a second convolutional layer\n",
        "classifier_2.add(Conv2D(32, (3, 3), activation = 'relu'))\n",
        "classifier_2.add(MaxPooling2D(pool_size = (2, 2)))\n",
        "# Adding a third convolutional layer\n",
        "classifier_2.add(Conv2D(32, (3, 3), activation = 'relu'))\n",
        "classifier_2.add(MaxPooling2D(pool_size = (2, 2)))\n",
        "# Adding a forth convolutional layer\n",
        "classifier_2.add(Conv2D(64, (3, 3), activation = 'relu'))\n",
        "classifier_2.add(MaxPooling2D(pool_size = (2, 2)))\n",
        "# Adding a forth convolutional layer\n",
        "classifier_2.add(Conv2D(64, (3, 3), activation = 'relu'))\n",
        "classifier_2.add(MaxPooling2D(pool_size = (2, 2)))\n",
        "# Adding a forth convolutional layer\n",
        "classifier_2.add(Conv2D(64, (3, 3), activation = 'relu'))\n",
        "classifier_2.add(MaxPooling2D(pool_size = (2, 2)))\n",
        "\n",
        "# Step 3 - Flattening\n",
        "classifier_2.add(Flatten())\n",
        "\n",
        "# Step 4 - Full connection\n",
        "classifier_2.add(Dense(units = 128, activation = 'relu'))\n",
        "classifier_2.add(Dense(units = 128, activation = 'relu'))\n",
        "classifier_2.add(Dense(units = 128, activation = 'relu'))\n",
        "classifier_2.add(Dense(units = 1, activation = 'sigmoid'))"
      ],
      "execution_count": null,
      "outputs": []
    },
    {
      "cell_type": "code",
      "metadata": {
        "id": "AmuBUNjoXNiV"
      },
      "source": [
        "classifier_2.compile(optimizer = 'adam', loss = 'binary_crossentropy', metrics = ['accuracy'])"
      ],
      "execution_count": null,
      "outputs": []
    },
    {
      "cell_type": "code",
      "metadata": {
        "colab": {
          "base_uri": "https://localhost:8080/"
        },
        "id": "LQO34iAnXRIY",
        "outputId": "deeece27-b95e-474f-e3b9-c91cfb641ac7"
      },
      "source": [
        "classifier_2.summary()"
      ],
      "execution_count": null,
      "outputs": [
        {
          "output_type": "stream",
          "text": [
            "Model: \"sequential\"\n",
            "_________________________________________________________________\n",
            "Layer (type)                 Output Shape              Param #   \n",
            "=================================================================\n",
            "conv2d (Conv2D)              (None, 510, 510, 32)      320       \n",
            "_________________________________________________________________\n",
            "max_pooling2d (MaxPooling2D) (None, 255, 255, 32)      0         \n",
            "_________________________________________________________________\n",
            "conv2d_1 (Conv2D)            (None, 253, 253, 32)      9248      \n",
            "_________________________________________________________________\n",
            "max_pooling2d_1 (MaxPooling2 (None, 126, 126, 32)      0         \n",
            "_________________________________________________________________\n",
            "conv2d_2 (Conv2D)            (None, 124, 124, 32)      9248      \n",
            "_________________________________________________________________\n",
            "max_pooling2d_2 (MaxPooling2 (None, 62, 62, 32)        0         \n",
            "_________________________________________________________________\n",
            "conv2d_3 (Conv2D)            (None, 60, 60, 64)        18496     \n",
            "_________________________________________________________________\n",
            "max_pooling2d_3 (MaxPooling2 (None, 30, 30, 64)        0         \n",
            "_________________________________________________________________\n",
            "conv2d_4 (Conv2D)            (None, 28, 28, 64)        36928     \n",
            "_________________________________________________________________\n",
            "max_pooling2d_4 (MaxPooling2 (None, 14, 14, 64)        0         \n",
            "_________________________________________________________________\n",
            "conv2d_5 (Conv2D)            (None, 12, 12, 64)        36928     \n",
            "_________________________________________________________________\n",
            "max_pooling2d_5 (MaxPooling2 (None, 6, 6, 64)          0         \n",
            "_________________________________________________________________\n",
            "flatten (Flatten)            (None, 2304)              0         \n",
            "_________________________________________________________________\n",
            "dense (Dense)                (None, 128)               295040    \n",
            "_________________________________________________________________\n",
            "dense_1 (Dense)              (None, 128)               16512     \n",
            "_________________________________________________________________\n",
            "dense_2 (Dense)              (None, 128)               16512     \n",
            "_________________________________________________________________\n",
            "dense_3 (Dense)              (None, 1)                 129       \n",
            "=================================================================\n",
            "Total params: 439,361\n",
            "Trainable params: 439,361\n",
            "Non-trainable params: 0\n",
            "_________________________________________________________________\n"
          ],
          "name": "stdout"
        }
      ]
    },
    {
      "cell_type": "code",
      "metadata": {
        "id": "bSlGS7U2XhdN"
      },
      "source": [
        "import keras as k"
      ],
      "execution_count": null,
      "outputs": []
    },
    {
      "cell_type": "code",
      "metadata": {
        "id": "HVliEA4yXiXk"
      },
      "source": [
        "import time\n",
        "NAME = \"test_2-{}\".format(int(time.time()))"
      ],
      "execution_count": null,
      "outputs": []
    },
    {
      "cell_type": "code",
      "metadata": {
        "id": "rbbk_RU6Xk7u"
      },
      "source": [
        "callbacks_2 = [\n",
        "#    k.callbacks.EarlyStopping(patience=3, monitor='val_loss'),\n",
        "    k.callbacks.TensorBoard(log_dir='logs\\{}'.format(NAME)),\n",
        "    k.callbacks.ModelCheckpoint('test_model_2.h5', save_best_only=True)]"
      ],
      "execution_count": null,
      "outputs": []
    },
    {
      "cell_type": "code",
      "metadata": {
        "colab": {
          "base_uri": "https://localhost:8080/"
        },
        "id": "sC_dCemQXoOc",
        "outputId": "32ccb88b-ce4e-410c-bc0f-e7630af8754e"
      },
      "source": [
        "hist_2 = classifier_2.fit(aug_train.flow(trainX, trainY, batch_size=32), steps_per_epoch=29, epochs = 50, verbose = 1,\n",
        "                        validation_data = (testX, testY), callbacks=callbacks_2)"
      ],
      "execution_count": null,
      "outputs": [
        {
          "output_type": "stream",
          "text": [
            "Epoch 1/50\n",
            "29/29 [==============================] - 291s 10s/step - loss: 0.5667 - accuracy: 0.7144 - val_loss: 34.7380 - val_accuracy: 0.7129\n",
            "Epoch 2/50\n",
            "29/29 [==============================] - 289s 10s/step - loss: 0.5342 - accuracy: 0.7144 - val_loss: 32.0463 - val_accuracy: 0.7129\n",
            "Epoch 3/50\n",
            "29/29 [==============================] - 290s 10s/step - loss: 0.5272 - accuracy: 0.7144 - val_loss: 18.6073 - val_accuracy: 0.7129\n",
            "Epoch 4/50\n",
            "29/29 [==============================] - 290s 10s/step - loss: 0.5060 - accuracy: 0.7156 - val_loss: 57.5021 - val_accuracy: 0.6931\n",
            "Epoch 5/50\n",
            "29/29 [==============================] - 289s 10s/step - loss: 0.5060 - accuracy: 0.7156 - val_loss: 39.5869 - val_accuracy: 0.7129\n",
            "Epoch 6/50\n",
            "29/29 [==============================] - 292s 10s/step - loss: 0.5039 - accuracy: 0.7144 - val_loss: 45.8340 - val_accuracy: 0.7129\n",
            "Epoch 7/50\n",
            "29/29 [==============================] - 291s 10s/step - loss: 0.4762 - accuracy: 0.7167 - val_loss: 45.5392 - val_accuracy: 0.8020\n",
            "Epoch 8/50\n",
            "29/29 [==============================] - 287s 10s/step - loss: 0.4866 - accuracy: 0.7222 - val_loss: 79.6042 - val_accuracy: 0.7624\n",
            "Epoch 9/50\n",
            "29/29 [==============================] - 291s 10s/step - loss: 0.4672 - accuracy: 0.7311 - val_loss: 70.2340 - val_accuracy: 0.7822\n",
            "Epoch 10/50\n",
            "29/29 [==============================] - 290s 10s/step - loss: 0.5033 - accuracy: 0.7167 - val_loss: 45.9602 - val_accuracy: 0.7426\n",
            "Epoch 11/50\n",
            "29/29 [==============================] - 291s 10s/step - loss: 0.4710 - accuracy: 0.7211 - val_loss: 185.2148 - val_accuracy: 0.7129\n",
            "Epoch 12/50\n",
            "29/29 [==============================] - 289s 10s/step - loss: 0.4907 - accuracy: 0.7367 - val_loss: 79.5525 - val_accuracy: 0.7129\n",
            "Epoch 13/50\n",
            "29/29 [==============================] - 288s 10s/step - loss: 0.4478 - accuracy: 0.7678 - val_loss: 51.4263 - val_accuracy: 0.7723\n",
            "Epoch 14/50\n",
            "29/29 [==============================] - 289s 10s/step - loss: 0.4423 - accuracy: 0.7622 - val_loss: 33.5057 - val_accuracy: 0.8317\n",
            "Epoch 15/50\n",
            "29/29 [==============================] - 294s 10s/step - loss: 0.4556 - accuracy: 0.7689 - val_loss: 27.1391 - val_accuracy: 0.7327\n",
            "Epoch 16/50\n",
            "29/29 [==============================] - 291s 10s/step - loss: 0.4298 - accuracy: 0.7767 - val_loss: 95.3372 - val_accuracy: 0.7525\n",
            "Epoch 17/50\n",
            "29/29 [==============================] - 291s 10s/step - loss: 0.4318 - accuracy: 0.7711 - val_loss: 98.2122 - val_accuracy: 0.7030\n",
            "Epoch 18/50\n",
            "29/29 [==============================] - 292s 10s/step - loss: 0.4050 - accuracy: 0.7978 - val_loss: 114.6265 - val_accuracy: 0.6931\n",
            "Epoch 19/50\n",
            "29/29 [==============================] - 296s 10s/step - loss: 0.4201 - accuracy: 0.7733 - val_loss: 242.8866 - val_accuracy: 0.7228\n",
            "Epoch 20/50\n",
            "29/29 [==============================] - 290s 10s/step - loss: 0.4336 - accuracy: 0.7844 - val_loss: 58.0143 - val_accuracy: 0.7525\n",
            "Epoch 21/50\n",
            "29/29 [==============================] - 293s 10s/step - loss: 0.4086 - accuracy: 0.7978 - val_loss: 52.8135 - val_accuracy: 0.8416\n",
            "Epoch 22/50\n",
            "29/29 [==============================] - 291s 10s/step - loss: 0.4031 - accuracy: 0.7844 - val_loss: 36.5538 - val_accuracy: 0.7921\n",
            "Epoch 23/50\n",
            "29/29 [==============================] - 292s 10s/step - loss: 0.4030 - accuracy: 0.7889 - val_loss: 84.0584 - val_accuracy: 0.7525\n",
            "Epoch 24/50\n",
            "29/29 [==============================] - 291s 10s/step - loss: 0.4115 - accuracy: 0.8044 - val_loss: 108.1156 - val_accuracy: 0.7624\n",
            "Epoch 25/50\n",
            "29/29 [==============================] - 290s 10s/step - loss: 0.3926 - accuracy: 0.7967 - val_loss: 247.4671 - val_accuracy: 0.7426\n",
            "Epoch 26/50\n",
            "29/29 [==============================] - 296s 10s/step - loss: 0.4290 - accuracy: 0.7722 - val_loss: 92.9601 - val_accuracy: 0.7822\n",
            "Epoch 27/50\n",
            "29/29 [==============================] - 292s 10s/step - loss: 0.4059 - accuracy: 0.7889 - val_loss: 178.0953 - val_accuracy: 0.7822\n",
            "Epoch 28/50\n",
            "29/29 [==============================] - 292s 10s/step - loss: 0.3999 - accuracy: 0.8022 - val_loss: 217.1842 - val_accuracy: 0.7327\n",
            "Epoch 29/50\n",
            "29/29 [==============================] - 293s 10s/step - loss: 0.3759 - accuracy: 0.8211 - val_loss: 283.8634 - val_accuracy: 0.7228\n",
            "Epoch 30/50\n",
            "29/29 [==============================] - 290s 10s/step - loss: 0.3661 - accuracy: 0.8244 - val_loss: 71.4201 - val_accuracy: 0.8119\n",
            "Epoch 31/50\n",
            "29/29 [==============================] - 294s 10s/step - loss: 0.3822 - accuracy: 0.8067 - val_loss: 61.0795 - val_accuracy: 0.7723\n",
            "Epoch 32/50\n",
            "29/29 [==============================] - 290s 10s/step - loss: 0.3564 - accuracy: 0.8211 - val_loss: 157.9012 - val_accuracy: 0.7822\n",
            "Epoch 33/50\n",
            "29/29 [==============================] - 293s 10s/step - loss: 0.3417 - accuracy: 0.8467 - val_loss: 75.9287 - val_accuracy: 0.7624\n",
            "Epoch 34/50\n",
            "29/29 [==============================] - 289s 10s/step - loss: 0.3367 - accuracy: 0.8456 - val_loss: 221.2047 - val_accuracy: 0.7327\n",
            "Epoch 35/50\n",
            "29/29 [==============================] - 291s 10s/step - loss: 0.2969 - accuracy: 0.8656 - val_loss: 176.6424 - val_accuracy: 0.8119\n",
            "Epoch 36/50\n",
            "29/29 [==============================] - 292s 10s/step - loss: 0.3029 - accuracy: 0.8722 - val_loss: 402.2297 - val_accuracy: 0.7228\n",
            "Epoch 37/50\n",
            "29/29 [==============================] - 294s 10s/step - loss: 0.2862 - accuracy: 0.8744 - val_loss: 263.4366 - val_accuracy: 0.8020\n",
            "Epoch 38/50\n",
            "29/29 [==============================] - 296s 10s/step - loss: 0.2757 - accuracy: 0.8733 - val_loss: 325.5260 - val_accuracy: 0.7426\n",
            "Epoch 39/50\n",
            "29/29 [==============================] - 291s 10s/step - loss: 0.2632 - accuracy: 0.8933 - val_loss: 311.5190 - val_accuracy: 0.7525\n",
            "Epoch 40/50\n",
            "29/29 [==============================] - 292s 10s/step - loss: 0.2429 - accuracy: 0.8867 - val_loss: 451.5925 - val_accuracy: 0.7822\n",
            "Epoch 41/50\n",
            "29/29 [==============================] - 294s 10s/step - loss: 0.2506 - accuracy: 0.9000 - val_loss: 182.0017 - val_accuracy: 0.7822\n",
            "Epoch 42/50\n",
            "29/29 [==============================] - 292s 10s/step - loss: 0.2354 - accuracy: 0.8978 - val_loss: 275.1922 - val_accuracy: 0.7822\n",
            "Epoch 43/50\n",
            "29/29 [==============================] - 293s 10s/step - loss: 0.3323 - accuracy: 0.8556 - val_loss: 144.6466 - val_accuracy: 0.7624\n",
            "Epoch 44/50\n",
            "29/29 [==============================] - 294s 10s/step - loss: 0.2790 - accuracy: 0.8756 - val_loss: 94.8771 - val_accuracy: 0.7921\n",
            "Epoch 45/50\n",
            "29/29 [==============================] - 290s 10s/step - loss: 0.2652 - accuracy: 0.8822 - val_loss: 177.6637 - val_accuracy: 0.7723\n",
            "Epoch 46/50\n",
            "29/29 [==============================] - 293s 10s/step - loss: 0.2602 - accuracy: 0.8844 - val_loss: 252.9237 - val_accuracy: 0.7624\n",
            "Epoch 47/50\n",
            "29/29 [==============================] - 291s 10s/step - loss: 0.2807 - accuracy: 0.8800 - val_loss: 269.2314 - val_accuracy: 0.7327\n",
            "Epoch 48/50\n",
            "29/29 [==============================] - 293s 10s/step - loss: 0.2763 - accuracy: 0.8956 - val_loss: 90.8668 - val_accuracy: 0.8317\n",
            "Epoch 49/50\n",
            "29/29 [==============================] - 292s 10s/step - loss: 0.2692 - accuracy: 0.8900 - val_loss: 233.1033 - val_accuracy: 0.7228\n",
            "Epoch 50/50\n",
            "29/29 [==============================] - 291s 10s/step - loss: 0.2016 - accuracy: 0.9189 - val_loss: 206.3485 - val_accuracy: 0.7921\n"
          ],
          "name": "stdout"
        }
      ]
    },
    {
      "cell_type": "code",
      "metadata": {
        "colab": {
          "base_uri": "https://localhost:8080/",
          "height": 312
        },
        "id": "xEA1GjgUX4fC",
        "outputId": "6983cb84-1a13-449a-e10c-6a343b0af027"
      },
      "source": [
        "import scipy.ndimage\n",
        "import matplotlib.pyplot as plt\n",
        "from skimage import measure, morphology, segmentation\n",
        "from mpl_toolkits.mplot3d.art3d import Poly3DCollection\n",
        "import scipy.ndimage as ndimage\n",
        "\n",
        "# print accuracy graph\n",
        "plt.plot(hist_2.history[\"accuracy\"])\n",
        "plt.plot(hist_2.history['val_accuracy'])\n",
        "plt.title(\"model accuracy\")\n",
        "plt.legend([\"Accuracy\",\"Validation Accuracy\"])\n",
        "plt.ylabel(\"Acuuracy\")\n",
        "plt.xlabel(\"Epoch\")"
      ],
      "execution_count": null,
      "outputs": [
        {
          "output_type": "execute_result",
          "data": {
            "text/plain": [
              "Text(0.5, 0, 'Epoch')"
            ]
          },
          "metadata": {
            "tags": []
          },
          "execution_count": 24
        },
        {
          "output_type": "display_data",
          "data": {
            "image/png": "[encoded data removed]",
            "text/plain": [
              "<Figure size 432x288 with 1 Axes>"
            ]
          },
          "metadata": {
            "tags": [],
            "needs_background": "light"
          }
        }
      ]
    },
    {
      "cell_type": "code",
      "metadata": {
        "colab": {
          "base_uri": "https://localhost:8080/",
          "height": 312
        },
        "id": "zI_FDK34hMPg",
        "outputId": "d2ed3684-32f8-432e-ac4a-ebcad1fb5d89"
      },
      "source": [
        "# print loss graph\n",
        "plt.plot(hist_2.history['loss'])\n",
        "plt.plot(hist_2.history['val_loss'])\n",
        "plt.title(\"model loss\")\n",
        "plt.ylabel(\"Loss\")\n",
        "plt.xlabel(\"Epoch\")\n",
        "plt.legend([\"loss\",\"Validation Loss\"])"
      ],
      "execution_count": null,
      "outputs": [
        {
          "output_type": "execute_result",
          "data": {
            "text/plain": [
              "<matplotlib.legend.Legend at 0x7f8d2e528b50>"
            ]
          },
          "metadata": {
            "tags": []
          },
          "execution_count": 25
        },
        {
          "output_type": "display_data",
          "data": {
            "image/png": "[encoded data removed]",
            "text/plain": [
              "<Figure size 432x288 with 1 Axes>"
            ]
          },
          "metadata": {
            "tags": [],
            "needs_background": "light"
          }
        }
      ]
    }
  ]
}